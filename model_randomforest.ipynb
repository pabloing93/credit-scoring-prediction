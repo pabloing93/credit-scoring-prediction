{
 "cells": [
  {
   "cell_type": "code",
   "execution_count": 154,
   "metadata": {},
   "outputs": [],
   "source": [
    "import pandas"
   ]
  },
  {
   "cell_type": "code",
   "execution_count": 155,
   "metadata": {},
   "outputs": [
    {
     "data": {
      "text/html": [
       "<div>\n",
       "<style scoped>\n",
       "    .dataframe tbody tr th:only-of-type {\n",
       "        vertical-align: middle;\n",
       "    }\n",
       "\n",
       "    .dataframe tbody tr th {\n",
       "        vertical-align: top;\n",
       "    }\n",
       "\n",
       "    .dataframe thead th {\n",
       "        text-align: right;\n",
       "    }\n",
       "</style>\n",
       "<table border=\"1\" class=\"dataframe\">\n",
       "  <thead>\n",
       "    <tr style=\"text-align: right;\">\n",
       "      <th></th>\n",
       "      <th>default</th>\n",
       "      <th>telephone</th>\n",
       "      <th>foreign_worker</th>\n",
       "      <th>estado_civil</th>\n",
       "      <th>account_check_status_1</th>\n",
       "      <th>account_check_status_2</th>\n",
       "      <th>account_check_status_3</th>\n",
       "      <th>account_check_status_4</th>\n",
       "      <th>credit_history_1</th>\n",
       "      <th>credit_history_2</th>\n",
       "      <th>...</th>\n",
       "      <th>rango_plazos_credito_1</th>\n",
       "      <th>rango_plazos_credito_2</th>\n",
       "      <th>rango_plazos_credito_3</th>\n",
       "      <th>rango_plazos_credito_4</th>\n",
       "      <th>rango_plazos_credito_5</th>\n",
       "      <th>rango_edad_1</th>\n",
       "      <th>rango_edad_2</th>\n",
       "      <th>rango_edad_3</th>\n",
       "      <th>rango_edad_4</th>\n",
       "      <th>rango_edad_5</th>\n",
       "    </tr>\n",
       "  </thead>\n",
       "  <tbody>\n",
       "    <tr>\n",
       "      <th>0</th>\n",
       "      <td>0</td>\n",
       "      <td>1</td>\n",
       "      <td>1</td>\n",
       "      <td>1</td>\n",
       "      <td>True</td>\n",
       "      <td>False</td>\n",
       "      <td>False</td>\n",
       "      <td>False</td>\n",
       "      <td>False</td>\n",
       "      <td>False</td>\n",
       "      <td>...</td>\n",
       "      <td>True</td>\n",
       "      <td>False</td>\n",
       "      <td>False</td>\n",
       "      <td>False</td>\n",
       "      <td>False</td>\n",
       "      <td>False</td>\n",
       "      <td>False</td>\n",
       "      <td>False</td>\n",
       "      <td>False</td>\n",
       "      <td>True</td>\n",
       "    </tr>\n",
       "    <tr>\n",
       "      <th>1</th>\n",
       "      <td>1</td>\n",
       "      <td>0</td>\n",
       "      <td>1</td>\n",
       "      <td>0</td>\n",
       "      <td>False</td>\n",
       "      <td>True</td>\n",
       "      <td>False</td>\n",
       "      <td>False</td>\n",
       "      <td>False</td>\n",
       "      <td>False</td>\n",
       "      <td>...</td>\n",
       "      <td>False</td>\n",
       "      <td>False</td>\n",
       "      <td>False</td>\n",
       "      <td>True</td>\n",
       "      <td>False</td>\n",
       "      <td>True</td>\n",
       "      <td>False</td>\n",
       "      <td>False</td>\n",
       "      <td>False</td>\n",
       "      <td>False</td>\n",
       "    </tr>\n",
       "    <tr>\n",
       "      <th>2</th>\n",
       "      <td>0</td>\n",
       "      <td>0</td>\n",
       "      <td>1</td>\n",
       "      <td>1</td>\n",
       "      <td>False</td>\n",
       "      <td>False</td>\n",
       "      <td>False</td>\n",
       "      <td>True</td>\n",
       "      <td>False</td>\n",
       "      <td>False</td>\n",
       "      <td>...</td>\n",
       "      <td>True</td>\n",
       "      <td>False</td>\n",
       "      <td>False</td>\n",
       "      <td>False</td>\n",
       "      <td>False</td>\n",
       "      <td>False</td>\n",
       "      <td>False</td>\n",
       "      <td>True</td>\n",
       "      <td>False</td>\n",
       "      <td>False</td>\n",
       "    </tr>\n",
       "    <tr>\n",
       "      <th>3</th>\n",
       "      <td>0</td>\n",
       "      <td>0</td>\n",
       "      <td>1</td>\n",
       "      <td>1</td>\n",
       "      <td>True</td>\n",
       "      <td>False</td>\n",
       "      <td>False</td>\n",
       "      <td>False</td>\n",
       "      <td>False</td>\n",
       "      <td>False</td>\n",
       "      <td>...</td>\n",
       "      <td>False</td>\n",
       "      <td>False</td>\n",
       "      <td>False</td>\n",
       "      <td>True</td>\n",
       "      <td>False</td>\n",
       "      <td>False</td>\n",
       "      <td>False</td>\n",
       "      <td>True</td>\n",
       "      <td>False</td>\n",
       "      <td>False</td>\n",
       "    </tr>\n",
       "    <tr>\n",
       "      <th>4</th>\n",
       "      <td>1</td>\n",
       "      <td>0</td>\n",
       "      <td>1</td>\n",
       "      <td>1</td>\n",
       "      <td>True</td>\n",
       "      <td>False</td>\n",
       "      <td>False</td>\n",
       "      <td>False</td>\n",
       "      <td>False</td>\n",
       "      <td>False</td>\n",
       "      <td>...</td>\n",
       "      <td>False</td>\n",
       "      <td>True</td>\n",
       "      <td>False</td>\n",
       "      <td>False</td>\n",
       "      <td>False</td>\n",
       "      <td>False</td>\n",
       "      <td>False</td>\n",
       "      <td>False</td>\n",
       "      <td>True</td>\n",
       "      <td>False</td>\n",
       "    </tr>\n",
       "  </tbody>\n",
       "</table>\n",
       "<p>5 rows × 58 columns</p>\n",
       "</div>"
      ],
      "text/plain": [
       "   default  telephone  foreign_worker  estado_civil  account_check_status_1  \\\n",
       "0        0          1               1             1                    True   \n",
       "1        1          0               1             0                   False   \n",
       "2        0          0               1             1                   False   \n",
       "3        0          0               1             1                    True   \n",
       "4        1          0               1             1                    True   \n",
       "\n",
       "   account_check_status_2  account_check_status_3  account_check_status_4  \\\n",
       "0                   False                   False                   False   \n",
       "1                    True                   False                   False   \n",
       "2                   False                   False                    True   \n",
       "3                   False                   False                   False   \n",
       "4                   False                   False                   False   \n",
       "\n",
       "   credit_history_1  credit_history_2  ...  rango_plazos_credito_1  \\\n",
       "0             False             False  ...                    True   \n",
       "1             False             False  ...                   False   \n",
       "2             False             False  ...                    True   \n",
       "3             False             False  ...                   False   \n",
       "4             False             False  ...                   False   \n",
       "\n",
       "   rango_plazos_credito_2  rango_plazos_credito_3  rango_plazos_credito_4  \\\n",
       "0                   False                   False                   False   \n",
       "1                   False                   False                    True   \n",
       "2                   False                   False                   False   \n",
       "3                   False                   False                    True   \n",
       "4                    True                   False                   False   \n",
       "\n",
       "   rango_plazos_credito_5  rango_edad_1  rango_edad_2  rango_edad_3  \\\n",
       "0                   False         False         False         False   \n",
       "1                   False          True         False         False   \n",
       "2                   False         False         False          True   \n",
       "3                   False         False         False          True   \n",
       "4                   False         False         False         False   \n",
       "\n",
       "   rango_edad_4  rango_edad_5  \n",
       "0         False          True  \n",
       "1         False         False  \n",
       "2         False         False  \n",
       "3         False         False  \n",
       "4          True         False  \n",
       "\n",
       "[5 rows x 58 columns]"
      ]
     },
     "execution_count": 155,
     "metadata": {},
     "output_type": "execute_result"
    }
   ],
   "source": [
    "clean_dataset = pandas.read_csv('df_banco_final.csv', sep=';')\n",
    "clean_dataset.head()"
   ]
  },
  {
   "cell_type": "code",
   "execution_count": 156,
   "metadata": {},
   "outputs": [],
   "source": [
    "from sklearn.preprocessing import StandardScaler"
   ]
  },
  {
   "cell_type": "code",
   "execution_count": 157,
   "metadata": {},
   "outputs": [],
   "source": [
    "norm = StandardScaler()"
   ]
  },
  {
   "cell_type": "code",
   "execution_count": 158,
   "metadata": {},
   "outputs": [
    {
     "data": {
      "text/plain": [
       "array([[ 1.41801012,  0.18431878,  1.06039189, ..., -0.41772795,\n",
       "        -0.27284353,  5.25085027],\n",
       "       [-0.70521359,  0.18431878, -0.94304758, ..., -0.41772795,\n",
       "        -0.27284353, -0.19044535],\n",
       "       [-0.70521359,  0.18431878,  1.06039189, ...,  2.39390251,\n",
       "        -0.27284353, -0.19044535],\n",
       "       ...,\n",
       "       [-0.70521359,  0.18431878, -0.94304758, ..., -0.41772795,\n",
       "        -0.27284353, -0.19044535],\n",
       "       [-0.70521359,  0.18431878, -0.94304758, ..., -0.41772795,\n",
       "        -0.27284353, -0.19044535],\n",
       "       [-0.70521359,  0.18431878, -0.94304758, ..., -0.41772795,\n",
       "        -0.27284353, -0.19044535]])"
      ]
     },
     "execution_count": 158,
     "metadata": {},
     "output_type": "execute_result"
    }
   ],
   "source": [
    "x = clean_dataset.drop('default', axis=1)\n",
    "y = clean_dataset['default']\n",
    "\n",
    "x_normalized = norm.fit_transform(x)\n",
    "x_normalized"
   ]
  },
  {
   "cell_type": "code",
   "execution_count": 159,
   "metadata": {},
   "outputs": [],
   "source": [
    "from sklearn.model_selection import train_test_split"
   ]
  },
  {
   "cell_type": "code",
   "execution_count": 160,
   "metadata": {},
   "outputs": [],
   "source": [
    "x_train, x_test, y_train, y_test = train_test_split(x_normalized, y, test_size=0.3, random_state=123)"
   ]
  },
  {
   "cell_type": "code",
   "execution_count": 161,
   "metadata": {},
   "outputs": [],
   "source": [
    "from sklearn.ensemble import RandomForestClassifier"
   ]
  },
  {
   "cell_type": "code",
   "execution_count": 162,
   "metadata": {},
   "outputs": [
    {
     "data": {
      "text/html": [
       "<style>#sk-container-id-10 {color: black;}#sk-container-id-10 pre{padding: 0;}#sk-container-id-10 div.sk-toggleable {background-color: white;}#sk-container-id-10 label.sk-toggleable__label {cursor: pointer;display: block;width: 100%;margin-bottom: 0;padding: 0.3em;box-sizing: border-box;text-align: center;}#sk-container-id-10 label.sk-toggleable__label-arrow:before {content: \"▸\";float: left;margin-right: 0.25em;color: #696969;}#sk-container-id-10 label.sk-toggleable__label-arrow:hover:before {color: black;}#sk-container-id-10 div.sk-estimator:hover label.sk-toggleable__label-arrow:before {color: black;}#sk-container-id-10 div.sk-toggleable__content {max-height: 0;max-width: 0;overflow: hidden;text-align: left;background-color: #f0f8ff;}#sk-container-id-10 div.sk-toggleable__content pre {margin: 0.2em;color: black;border-radius: 0.25em;background-color: #f0f8ff;}#sk-container-id-10 input.sk-toggleable__control:checked~div.sk-toggleable__content {max-height: 200px;max-width: 100%;overflow: auto;}#sk-container-id-10 input.sk-toggleable__control:checked~label.sk-toggleable__label-arrow:before {content: \"▾\";}#sk-container-id-10 div.sk-estimator input.sk-toggleable__control:checked~label.sk-toggleable__label {background-color: #d4ebff;}#sk-container-id-10 div.sk-label input.sk-toggleable__control:checked~label.sk-toggleable__label {background-color: #d4ebff;}#sk-container-id-10 input.sk-hidden--visually {border: 0;clip: rect(1px 1px 1px 1px);clip: rect(1px, 1px, 1px, 1px);height: 1px;margin: -1px;overflow: hidden;padding: 0;position: absolute;width: 1px;}#sk-container-id-10 div.sk-estimator {font-family: monospace;background-color: #f0f8ff;border: 1px dotted black;border-radius: 0.25em;box-sizing: border-box;margin-bottom: 0.5em;}#sk-container-id-10 div.sk-estimator:hover {background-color: #d4ebff;}#sk-container-id-10 div.sk-parallel-item::after {content: \"\";width: 100%;border-bottom: 1px solid gray;flex-grow: 1;}#sk-container-id-10 div.sk-label:hover label.sk-toggleable__label {background-color: #d4ebff;}#sk-container-id-10 div.sk-serial::before {content: \"\";position: absolute;border-left: 1px solid gray;box-sizing: border-box;top: 0;bottom: 0;left: 50%;z-index: 0;}#sk-container-id-10 div.sk-serial {display: flex;flex-direction: column;align-items: center;background-color: white;padding-right: 0.2em;padding-left: 0.2em;position: relative;}#sk-container-id-10 div.sk-item {position: relative;z-index: 1;}#sk-container-id-10 div.sk-parallel {display: flex;align-items: stretch;justify-content: center;background-color: white;position: relative;}#sk-container-id-10 div.sk-item::before, #sk-container-id-10 div.sk-parallel-item::before {content: \"\";position: absolute;border-left: 1px solid gray;box-sizing: border-box;top: 0;bottom: 0;left: 50%;z-index: -1;}#sk-container-id-10 div.sk-parallel-item {display: flex;flex-direction: column;z-index: 1;position: relative;background-color: white;}#sk-container-id-10 div.sk-parallel-item:first-child::after {align-self: flex-end;width: 50%;}#sk-container-id-10 div.sk-parallel-item:last-child::after {align-self: flex-start;width: 50%;}#sk-container-id-10 div.sk-parallel-item:only-child::after {width: 0;}#sk-container-id-10 div.sk-dashed-wrapped {border: 1px dashed gray;margin: 0 0.4em 0.5em 0.4em;box-sizing: border-box;padding-bottom: 0.4em;background-color: white;}#sk-container-id-10 div.sk-label label {font-family: monospace;font-weight: bold;display: inline-block;line-height: 1.2em;}#sk-container-id-10 div.sk-label-container {text-align: center;}#sk-container-id-10 div.sk-container {/* jupyter's `normalize.less` sets `[hidden] { display: none; }` but bootstrap.min.css set `[hidden] { display: none !important; }` so we also need the `!important` here to be able to override the default hidden behavior on the sphinx rendered scikit-learn.org. See: https://github.com/scikit-learn/scikit-learn/issues/21755 */display: inline-block !important;position: relative;}#sk-container-id-10 div.sk-text-repr-fallback {display: none;}</style><div id=\"sk-container-id-10\" class=\"sk-top-container\"><div class=\"sk-text-repr-fallback\"><pre>RandomForestClassifier(random_state=123)</pre><b>In a Jupyter environment, please rerun this cell to show the HTML representation or trust the notebook. <br />On GitHub, the HTML representation is unable to render, please try loading this page with nbviewer.org.</b></div><div class=\"sk-container\" hidden><div class=\"sk-item\"><div class=\"sk-estimator sk-toggleable\"><input class=\"sk-toggleable__control sk-hidden--visually\" id=\"sk-estimator-id-10\" type=\"checkbox\" checked><label for=\"sk-estimator-id-10\" class=\"sk-toggleable__label sk-toggleable__label-arrow\">RandomForestClassifier</label><div class=\"sk-toggleable__content\"><pre>RandomForestClassifier(random_state=123)</pre></div></div></div></div></div>"
      ],
      "text/plain": [
       "RandomForestClassifier(random_state=123)"
      ]
     },
     "execution_count": 162,
     "metadata": {},
     "output_type": "execute_result"
    }
   ],
   "source": [
    "model = RandomForestClassifier(random_state=123)\n",
    "model.fit(x_train, y_train)"
   ]
  },
  {
   "cell_type": "code",
   "execution_count": 163,
   "metadata": {},
   "outputs": [],
   "source": [
    "predictions = model.predict(x_test)"
   ]
  },
  {
   "cell_type": "code",
   "execution_count": 164,
   "metadata": {},
   "outputs": [],
   "source": [
    "from sklearn.metrics import ConfusionMatrixDisplay, confusion_matrix, accuracy_score, precision_score, recall_score, f1_score, roc_auc_score"
   ]
  },
  {
   "cell_type": "code",
   "execution_count": 165,
   "metadata": {},
   "outputs": [
    {
     "data": {
      "text/plain": [
       "<sklearn.metrics._plot.confusion_matrix.ConfusionMatrixDisplay at 0x1f23508ce20>"
      ]
     },
     "execution_count": 165,
     "metadata": {},
     "output_type": "execute_result"
    },
    {
     "data": {
      "image/png": "[encoded data removed]",
      "text/plain": [
       "<Figure size 640x480 with 2 Axes>"
      ]
     },
     "metadata": {},
     "output_type": "display_data"
    }
   ],
   "source": [
    "confmatrix = confusion_matrix(y_test, predictions)\n",
    "confmatrix\n",
    "\n",
    "visual_confmatrix = ConfusionMatrixDisplay(confmatrix)\n",
    "visual_confmatrix.plot(cmap='PuBu')"
   ]
  },
  {
   "cell_type": "code",
   "execution_count": 166,
   "metadata": {},
   "outputs": [],
   "source": [
    "accuracy = accuracy_score(y_test, predictions)\n",
    "precision = precision_score(y_test, predictions)\n",
    "recall = recall_score(y_test, predictions)\n",
    "f1 = f1_score(y_test, predictions)\n",
    "rocauc = roc_auc_score(y_test, predictions)"
   ]
  },
  {
   "cell_type": "code",
   "execution_count": 167,
   "metadata": {},
   "outputs": [
    {
     "data": {
      "text/plain": [
       "0.7710280373831776"
      ]
     },
     "execution_count": 167,
     "metadata": {},
     "output_type": "execute_result"
    }
   ],
   "source": [
    "tn = confmatrix[0][0]\n",
    "fp = confmatrix[0][1]\n",
    "specificity = tn/(tn + fp)\n",
    "specificity"
   ]
  },
  {
   "cell_type": "code",
   "execution_count": 168,
   "metadata": {},
   "outputs": [
    {
     "data": {
      "text/plain": [
       "{'model': 'RandomForestClassifier',\n",
       " 'accuracy': 0.7761904761904762,\n",
       " 'precision': 0.7666666666666667,\n",
       " 'recall': 0.7815533980582524,\n",
       " 'f1_score': 0.7740384615384616,\n",
       " 'roc_auc_score': 0.7762907177207149,\n",
       " 'specificity': 0.7710280373831776}"
      ]
     },
     "execution_count": 168,
     "metadata": {},
     "output_type": "execute_result"
    }
   ],
   "source": [
    "model_scores = {\n",
    "  'model': 'RandomForestClassifier',\n",
    "  'accuracy': accuracy,\n",
    "  'precision': precision,\n",
    "  'recall': recall,\n",
    "  'f1_score': f1,\n",
    "  'roc_auc_score': rocauc,\n",
    "  'specificity' : specificity\n",
    "}\n",
    "model_scores"
   ]
  },
  {
   "cell_type": "code",
   "execution_count": 169,
   "metadata": {},
   "outputs": [],
   "source": [
    "def save_scores(model_scores: dict):\n",
    "  status = []\n",
    "  #Utilizamos un try-except en caso de que el archivo no exista que cree uno\n",
    "  try:\n",
    "    #Si el archivo existe continúa por acá\n",
    "    scores = pandas.read_csv('scores.csv', sep=';')\n",
    "    status.append('El archivo existe')\n",
    "    exist = model_scores['model'] in scores['model'].values\n",
    "    #Validamos si el modelo ya existe en el archivo de scores\n",
    "    if (exist):\n",
    "      #Si el modelo ya existe reemplazamos sus valores\n",
    "      status.append('El modelo existe')\n",
    "      criteria = scores['model'] == model_scores['model']\n",
    "      index = scores[criteria].index[0]\n",
    "      scores.iloc[index] = model_scores\n",
    "      status.append('Se reemplazaron los valores del modelo')\n",
    "    else:\n",
    "      #Si el modelo no existe lo agregamos\n",
    "      status.append('El modelo no existe')\n",
    "      df_model_scores = pandas.DataFrame(model_scores, index=[0])\n",
    "      scores = pandas.concat([scores, df_model_scores], ignore_index=True)\n",
    "      status.append('Se añadió modelo nuevo y sus valores')\n",
    "  except:\n",
    "    #Si no existe el archivo lo creamos y cargamos los scores del modelo\n",
    "    status.append('El archivo no existe')\n",
    "    scores = pandas.DataFrame(model_scores, index=[0])\n",
    "\n",
    "  status.append('Se sobrescrive el archivo scores.csv con valores nuevos')\n",
    "  scores.to_csv('scores.csv', sep=';', index=False)\n",
    "  return status"
   ]
  },
  {
   "cell_type": "code",
   "execution_count": 170,
   "metadata": {},
   "outputs": [
    {
     "data": {
      "text/plain": [
       "['El archivo existe',\n",
       " 'El modelo existe',\n",
       " 'Se reemplazaron los valores del modelo',\n",
       " 'Se sobrescrive el archivo scores.csv con valores nuevos']"
      ]
     },
     "execution_count": 170,
     "metadata": {},
     "output_type": "execute_result"
    }
   ],
   "source": [
    "save_scores(model_scores)"
   ]
  }
 ],
 "metadata": {
  "kernelspec": {
   "display_name": "Python 3",
   "language": "python",
   "name": "python3"
  },
  "language_info": {
   "codemirror_mode": {
    "name": "ipython",
    "version": 3
   },
   "file_extension": ".py",
   "mimetype": "text/x-python",
   "name": "python",
   "nbconvert_exporter": "python",
   "pygments_lexer": "ipython3",
   "version": "3.12.0"
  }
 },
 "nbformat": 4,
 "nbformat_minor": 2
}
