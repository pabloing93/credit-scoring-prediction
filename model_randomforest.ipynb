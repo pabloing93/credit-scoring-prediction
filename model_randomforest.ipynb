{
 "cells": [
  {
   "cell_type": "code",
   "execution_count": 102,
   "metadata": {},
   "outputs": [],
   "source": [
    "import pandas"
   ]
  },
  {
   "cell_type": "code",
   "execution_count": 103,
   "metadata": {},
   "outputs": [
    {
     "data": {
      "text/html": [
       "<div>\n",
       "<style scoped>\n",
       "    .dataframe tbody tr th:only-of-type {\n",
       "        vertical-align: middle;\n",
       "    }\n",
       "\n",
       "    .dataframe tbody tr th {\n",
       "        vertical-align: top;\n",
       "    }\n",
       "\n",
       "    .dataframe thead th {\n",
       "        text-align: right;\n",
       "    }\n",
       "</style>\n",
       "<table border=\"1\" class=\"dataframe\">\n",
       "  <thead>\n",
       "    <tr style=\"text-align: right;\">\n",
       "      <th></th>\n",
       "      <th>default</th>\n",
       "      <th>account_check_status</th>\n",
       "      <th>credit_history</th>\n",
       "      <th>savings</th>\n",
       "      <th>present_emp_since</th>\n",
       "      <th>installment_as_income_perc</th>\n",
       "      <th>other_debtors</th>\n",
       "      <th>property</th>\n",
       "      <th>other_installment_plans</th>\n",
       "      <th>housing</th>\n",
       "      <th>credits_this_bank</th>\n",
       "      <th>job</th>\n",
       "      <th>telephone</th>\n",
       "      <th>foreign_worker</th>\n",
       "      <th>estado_civil</th>\n",
       "      <th>rango_valor_credito</th>\n",
       "      <th>rango_plazos_credito</th>\n",
       "      <th>rango_edad</th>\n",
       "    </tr>\n",
       "  </thead>\n",
       "  <tbody>\n",
       "    <tr>\n",
       "      <th>0</th>\n",
       "      <td>0</td>\n",
       "      <td>1</td>\n",
       "      <td>5</td>\n",
       "      <td>1</td>\n",
       "      <td>1</td>\n",
       "      <td>4</td>\n",
       "      <td>1</td>\n",
       "      <td>1</td>\n",
       "      <td>3</td>\n",
       "      <td>2</td>\n",
       "      <td>2</td>\n",
       "      <td>3</td>\n",
       "      <td>1</td>\n",
       "      <td>1</td>\n",
       "      <td>1</td>\n",
       "      <td>2</td>\n",
       "      <td>1</td>\n",
       "      <td>5</td>\n",
       "    </tr>\n",
       "    <tr>\n",
       "      <th>1</th>\n",
       "      <td>1</td>\n",
       "      <td>2</td>\n",
       "      <td>3</td>\n",
       "      <td>5</td>\n",
       "      <td>3</td>\n",
       "      <td>2</td>\n",
       "      <td>1</td>\n",
       "      <td>1</td>\n",
       "      <td>3</td>\n",
       "      <td>2</td>\n",
       "      <td>1</td>\n",
       "      <td>3</td>\n",
       "      <td>0</td>\n",
       "      <td>1</td>\n",
       "      <td>0</td>\n",
       "      <td>6</td>\n",
       "      <td>4</td>\n",
       "      <td>1</td>\n",
       "    </tr>\n",
       "    <tr>\n",
       "      <th>2</th>\n",
       "      <td>0</td>\n",
       "      <td>4</td>\n",
       "      <td>5</td>\n",
       "      <td>5</td>\n",
       "      <td>2</td>\n",
       "      <td>2</td>\n",
       "      <td>1</td>\n",
       "      <td>1</td>\n",
       "      <td>3</td>\n",
       "      <td>2</td>\n",
       "      <td>1</td>\n",
       "      <td>2</td>\n",
       "      <td>0</td>\n",
       "      <td>1</td>\n",
       "      <td>1</td>\n",
       "      <td>3</td>\n",
       "      <td>1</td>\n",
       "      <td>3</td>\n",
       "    </tr>\n",
       "    <tr>\n",
       "      <th>3</th>\n",
       "      <td>0</td>\n",
       "      <td>1</td>\n",
       "      <td>3</td>\n",
       "      <td>5</td>\n",
       "      <td>2</td>\n",
       "      <td>2</td>\n",
       "      <td>3</td>\n",
       "      <td>2</td>\n",
       "      <td>3</td>\n",
       "      <td>3</td>\n",
       "      <td>1</td>\n",
       "      <td>3</td>\n",
       "      <td>0</td>\n",
       "      <td>1</td>\n",
       "      <td>1</td>\n",
       "      <td>8</td>\n",
       "      <td>4</td>\n",
       "      <td>3</td>\n",
       "    </tr>\n",
       "    <tr>\n",
       "      <th>4</th>\n",
       "      <td>1</td>\n",
       "      <td>1</td>\n",
       "      <td>4</td>\n",
       "      <td>5</td>\n",
       "      <td>3</td>\n",
       "      <td>3</td>\n",
       "      <td>1</td>\n",
       "      <td>4</td>\n",
       "      <td>3</td>\n",
       "      <td>3</td>\n",
       "      <td>2</td>\n",
       "      <td>3</td>\n",
       "      <td>0</td>\n",
       "      <td>1</td>\n",
       "      <td>1</td>\n",
       "      <td>5</td>\n",
       "      <td>2</td>\n",
       "      <td>4</td>\n",
       "    </tr>\n",
       "  </tbody>\n",
       "</table>\n",
       "</div>"
      ],
      "text/plain": [
       "   default  account_check_status  credit_history  savings  present_emp_since  \\\n",
       "0        0                     1               5        1                  1   \n",
       "1        1                     2               3        5                  3   \n",
       "2        0                     4               5        5                  2   \n",
       "3        0                     1               3        5                  2   \n",
       "4        1                     1               4        5                  3   \n",
       "\n",
       "   installment_as_income_perc  other_debtors  property  \\\n",
       "0                           4              1         1   \n",
       "1                           2              1         1   \n",
       "2                           2              1         1   \n",
       "3                           2              3         2   \n",
       "4                           3              1         4   \n",
       "\n",
       "   other_installment_plans  housing  credits_this_bank  job  telephone  \\\n",
       "0                        3        2                  2    3          1   \n",
       "1                        3        2                  1    3          0   \n",
       "2                        3        2                  1    2          0   \n",
       "3                        3        3                  1    3          0   \n",
       "4                        3        3                  2    3          0   \n",
       "\n",
       "   foreign_worker  estado_civil  rango_valor_credito  rango_plazos_credito  \\\n",
       "0               1             1                    2                     1   \n",
       "1               1             0                    6                     4   \n",
       "2               1             1                    3                     1   \n",
       "3               1             1                    8                     4   \n",
       "4               1             1                    5                     2   \n",
       "\n",
       "   rango_edad  \n",
       "0           5  \n",
       "1           1  \n",
       "2           3  \n",
       "3           3  \n",
       "4           4  "
      ]
     },
     "execution_count": 103,
     "metadata": {},
     "output_type": "execute_result"
    }
   ],
   "source": [
    "clean_dataset = pandas.read_csv('df_banco_final.csv', sep=';')\n",
    "clean_dataset.head()"
   ]
  },
  {
   "cell_type": "code",
   "execution_count": 104,
   "metadata": {},
   "outputs": [],
   "source": [
    "from sklearn.preprocessing import StandardScaler"
   ]
  },
  {
   "cell_type": "code",
   "execution_count": 105,
   "metadata": {},
   "outputs": [],
   "source": [
    "#Estandariza la escala de la media y de la desviación estandar y se almacena la función en una variable\n",
    "norm = StandardScaler()"
   ]
  },
  {
   "cell_type": "code",
   "execution_count": 106,
   "metadata": {},
   "outputs": [
    {
     "data": {
      "text/plain": [
       "array([[-1.06271653,  1.50687935, -2.01779722, ..., -0.62124939,\n",
       "        -1.05547493,  2.80548   ],\n",
       "       [-0.25059691, -0.33157912,  0.68482522, ...,  0.79816986,\n",
       "         1.95811766, -0.85668504],\n",
       "       [ 1.37364232,  1.50687935,  0.68482522, ..., -0.26639458,\n",
       "        -1.05547493,  0.97439748],\n",
       "       ...,\n",
       "       [-1.06271653, -2.17003758,  0.68482522, ..., -0.62124939,\n",
       "        -1.05547493, -0.85668504],\n",
       "       [-0.25059691, -0.33157912,  0.68482522, ..., -0.26639458,\n",
       "        -0.05094407, -0.85668504],\n",
       "       [-1.06271653, -0.33157912,  0.68482522, ..., -0.62124939,\n",
       "        -1.05547493, -0.85668504]])"
      ]
     },
     "execution_count": 106,
     "metadata": {},
     "output_type": "execute_result"
    }
   ],
   "source": [
    "# X es un DataFrame que contiene todas las columnas del DF excepto la columna 'default'.\n",
    "x = clean_dataset.drop('default', axis=1)\n",
    "# Y es una serie que contiene únicamente el valor default\n",
    "y = clean_dataset['default']\n",
    "\n",
    "#El método fit_transform se aplica a las características x para ajustar la estandarización y al mismo tiempo transformar las características\n",
    "x_normalized = norm.fit_transform(x)\n",
    "#Se almacena el resultado en nueva variable con una media de cero y desviación estandar de 1\n",
    "x_normalized"
   ]
  },
  {
   "cell_type": "code",
   "execution_count": 107,
   "metadata": {},
   "outputs": [],
   "source": [
    "from sklearn.model_selection import train_test_split"
   ]
  },
  {
   "cell_type": "code",
   "execution_count": 108,
   "metadata": {},
   "outputs": [],
   "source": [
    "#x_normalized contiene el conjunto de caracteristicas, contra Y que es la variable objetiva \n",
    "#test_size=0.3 significa que el 30% de los datos se utilizarán como conjunto de prueba, y el 70% restante se utilizará como conjunto de entrenamiento.\n",
    "x_train, x_test, y_train, y_test = train_test_split(x_normalized, y, test_size=0.3, random_state=12)"
   ]
  },
  {
   "cell_type": "code",
   "execution_count": 109,
   "metadata": {},
   "outputs": [
    {
     "data": {
      "text/plain": [
       "'El resultado de train_test_split son cuatro conjuntos de datos:\\n\\nX_train: Conjunto de características para entrenamiento.\\nX_test: Conjunto de características para pruebas.\\ny_train: Variable objetivo para entrenamiento.\\ny_test: Variable objetivo para pruebas.'"
      ]
     },
     "execution_count": 109,
     "metadata": {},
     "output_type": "execute_result"
    }
   ],
   "source": [
    "\"\"\"El resultado de train_test_split son cuatro conjuntos de datos:\n",
    "\n",
    "X_train: Conjunto de características para entrenamiento.\n",
    "X_test: Conjunto de características para pruebas.\n",
    "y_train: Variable objetivo para entrenamiento.\n",
    "y_test: Variable objetivo para pruebas.\"\"\""
   ]
  },
  {
   "cell_type": "code",
   "execution_count": 110,
   "metadata": {},
   "outputs": [],
   "source": [
    "#Importamos el modulo clasificador\n",
    "from sklearn.ensemble import RandomForestClassifier"
   ]
  },
  {
   "cell_type": "code",
   "execution_count": 111,
   "metadata": {},
   "outputs": [],
   "source": [
    "#Aplica el clasificador de bosque aleatorio \n",
    "rf = RandomForestClassifier()"
   ]
  },
  {
   "cell_type": "code",
   "execution_count": 112,
   "metadata": {},
   "outputs": [],
   "source": [
    "rf.fit(x_train, y_train)\n",
    "predictions = rf.predict(x_test)"
   ]
  },
  {
   "cell_type": "code",
   "execution_count": 113,
   "metadata": {},
   "outputs": [],
   "source": [
    "#Importamos las métricas relacionadas con la evaluación del rendimiento del modelo de clasificación \n",
    "from sklearn.metrics import ConfusionMatrixDisplay, confusion_matrix, accuracy_score, precision_score, recall_score, f1_score, roc_auc_score"
   ]
  },
  {
   "cell_type": "code",
   "execution_count": 114,
   "metadata": {},
   "outputs": [
    {
     "data": {
      "text/plain": [
       "<sklearn.metrics._plot.confusion_matrix.ConfusionMatrixDisplay at 0x185d393f050>"
      ]
     },
     "execution_count": 114,
     "metadata": {},
     "output_type": "execute_result"
    },
    {
     "data": {
      "image/png": "[encoded data removed]",
      "text/plain": [
       "<Figure size 640x480 with 2 Axes>"
      ]
     },
     "metadata": {},
     "output_type": "display_data"
    }
   ],
   "source": [
    "#La variable confmatrix contendrá la matriz de confusión calculada al comparar (y_test) con las predicciones del modelo (predictions).\n",
    "confmatrix = confusion_matrix(y_test, predictions)\n",
    "confmatrix\n",
    "\n",
    "visual_confmatrix = ConfusionMatrixDisplay(confmatrix)\n",
    "\n",
    "visual_confmatrix.plot(cmap='PuBu')\n"
   ]
  },
  {
   "cell_type": "code",
   "execution_count": 115,
   "metadata": {},
   "outputs": [
    {
     "data": {
      "text/plain": [
       "{'model': 'RandomForestClassifier',\n",
       " 'accuracy': 0.7928571428571428,\n",
       " 'precision': 0.7757009345794392,\n",
       " 'recall': 0.8097560975609757,\n",
       " 'f1_score': 0.7923627684964201,\n",
       " 'roc_auc_score': 0.7932501418037436,\n",
       " 'specificity': 0.7767441860465116}"
      ]
     },
     "execution_count": 115,
     "metadata": {},
     "output_type": "execute_result"
    }
   ],
   "source": [
    "#calcula las métricas de evaluación del rendimiento de un modelo de clasificación\n",
    "accuracy = accuracy_score(y_test, predictions)\n",
    "precision = precision_score(y_test, predictions)\n",
    "recall = recall_score(y_test, predictions)\n",
    "f1 = f1_score(y_test, predictions)\n",
    "rocauc = roc_auc_score(y_test, predictions)\n",
    "tn, fp, fn, tp = confmatrix.ravel()\n",
    "specificity = tn/(tn + fp)\n",
    "\n",
    "#Creamos un diccionario para almacenar las metricas de evaluación\n",
    "model_scores = {\n",
    "  'model': 'RandomForestClassifier',\n",
    "  'accuracy': accuracy,\n",
    "  'precision': precision,\n",
    "  'recall': recall,\n",
    "  'f1_score': f1,\n",
    "  'roc_auc_score': rocauc,\n",
    "  'specificity' : specificity\n",
    "}\n",
    "model_scores"
   ]
  },
  {
   "cell_type": "code",
   "execution_count": 116,
   "metadata": {},
   "outputs": [],
   "source": [
    "#Mejorando el modelo de predicción\n",
    "from sklearn.model_selection import RandomizedSearchCV\n",
    "from sklearn.model_selection import KFold"
   ]
  },
  {
   "cell_type": "code",
   "execution_count": 117,
   "metadata": {},
   "outputs": [],
   "source": [
    "kfolds = KFold(n_splits=10, shuffle=True)"
   ]
  },
  {
   "cell_type": "code",
   "execution_count": 118,
   "metadata": {},
   "outputs": [],
   "source": [
    "# Definir los parámetros que deseas ajustar\n",
    "params = {\n",
    "  'criterion': ['gini', 'entropy', 'log_loss'],\n",
    "  'max_depth': [10, 20, 30],\n",
    "  'max_features': ['sqrt', 'log2', None],\n",
    "  'bootstrap': [True, False],\n",
    "  'n_estimators': [50, 100, 150],\n",
    "}"
   ]
  },
  {
   "cell_type": "code",
   "execution_count": 119,
   "metadata": {},
   "outputs": [],
   "source": [
    "# Inicializar GridSearchCV con el modelo y los parámetros\n",
    "rf_randomizedSearchCV = RandomizedSearchCV(\n",
    "  rf,\n",
    "  params,\n",
    "  n_iter=162,\n",
    "  cv=kfolds,\n",
    "  scoring='accuracy',\n",
    "  n_jobs=-1\n",
    ")"
   ]
  },
  {
   "cell_type": "code",
   "execution_count": 120,
   "metadata": {},
   "outputs": [],
   "source": [
    "# Ajustar el modelo a los datos de entrenamiento\n",
    "rf_randomized_fit = rf_randomizedSearchCV.fit(x_train, y_train)"
   ]
  },
  {
   "cell_type": "code",
   "execution_count": 121,
   "metadata": {},
   "outputs": [
    {
     "name": "stdout",
     "output_type": "stream",
     "text": [
      "{'n_estimators': 100, 'max_features': 'sqrt', 'max_depth': 20, 'criterion': 'log_loss', 'bootstrap': False}\n",
      "0.8306122448979592\n"
     ]
    }
   ],
   "source": [
    "# Obtener los mejores parámetros\n",
    "best_params = rf_randomized_fit.best_params_\n",
    "print(best_params)\n",
    "\n",
    "# Obtener el mejor modelo\n",
    "best_score = rf_randomized_fit.best_score_\n",
    "print(best_score)"
   ]
  },
  {
   "cell_type": "code",
   "execution_count": 122,
   "metadata": {},
   "outputs": [],
   "source": [
    "rf_optimized = RandomForestClassifier(\n",
    "  n_estimators= 50, \n",
    "  max_features= 'sqrt', \n",
    "  max_depth= 30,\n",
    "  criterion= 'gini',\n",
    "  bootstrap= True\n",
    ")\n",
    "rf_optimized.fit(x_train, y_train)\n",
    "predictions = rf_optimized.predict(x_test)"
   ]
  },
  {
   "cell_type": "code",
   "execution_count": 123,
   "metadata": {},
   "outputs": [
    {
     "data": {
      "text/plain": [
       "<sklearn.metrics._plot.confusion_matrix.ConfusionMatrixDisplay at 0x185cfe71280>"
      ]
     },
     "execution_count": 123,
     "metadata": {},
     "output_type": "execute_result"
    },
    {
     "data": {
      "image/png": "[encoded data removed]",
      "text/plain": [
       "<Figure size 640x480 with 2 Axes>"
      ]
     },
     "metadata": {},
     "output_type": "display_data"
    }
   ],
   "source": [
    "#La variable confmatrix contendrá la matriz de confusión calculada al comparar (y_test) con las predicciones del modelo (predictions).\n",
    "confmatrix = confusion_matrix(y_test, predictions)\n",
    "confmatrix\n",
    "\n",
    "visual_confmatrix = ConfusionMatrixDisplay(confmatrix)\n",
    "\n",
    "visual_confmatrix.plot(cmap='PuBu')"
   ]
  },
  {
   "cell_type": "code",
   "execution_count": 124,
   "metadata": {},
   "outputs": [
    {
     "data": {
      "text/plain": [
       "{'model': 'RandomForestClassifier',\n",
       " 'accuracy': 0.7904761904761904,\n",
       " 'precision': 0.7671232876712328,\n",
       " 'recall': 0.8195121951219512,\n",
       " 'f1_score': 0.7924528301886793,\n",
       " 'roc_auc_score': 0.7911514463981848,\n",
       " 'specificity': 0.7627906976744186}"
      ]
     },
     "execution_count": 124,
     "metadata": {},
     "output_type": "execute_result"
    }
   ],
   "source": [
    "#calcula las métricas de evaluación del rendimiento de un modelo de clasificación\n",
    "accuracy = accuracy_score(y_test, predictions)\n",
    "precision = precision_score(y_test, predictions)\n",
    "recall = recall_score(y_test, predictions)\n",
    "f1 = f1_score(y_test, predictions)\n",
    "rocauc = roc_auc_score(y_test, predictions)\n",
    "tn, fp, fn, tp = confmatrix.ravel()\n",
    "specificity = tn/(tn + fp)\n",
    "\n",
    "#Creamos un diccionario para almacenar las metricas de evaluación\n",
    "model_scores = {\n",
    "  'model': 'RandomForestClassifier',\n",
    "  'accuracy': accuracy,\n",
    "  'precision': precision,\n",
    "  'recall': recall,\n",
    "  'f1_score': f1,\n",
    "  'roc_auc_score': rocauc,\n",
    "  'specificity' : specificity\n",
    "}\n",
    "model_scores"
   ]
  },
  {
   "cell_type": "code",
   "execution_count": 125,
   "metadata": {},
   "outputs": [
    {
     "data": {
      "text/plain": [
       "'#La variable confmatrix contendrá la matriz de confusión calculada al comparar (y_test) con las predicciones del modelo (predictions).\\nconfmatrix = confusion_matrix(y_test, predictions)\\nconfmatrix\\n\\nconfmatrix[0,0]: Verdaderos negativos (TN)\\nconfmatrix[0,1]: Falsos positivos (FP)\\nconfmatrix[1,0]: Falsos negativos (FN)\\nconfmatrix[1,1]: Verdaderos positivos (TP)\\n\\n#fig, ax = plt.subplots(figsize=(8, 8))\\nvisual_confmatrix = ConfusionMatrixDisplay(confmatrix)\\n\\nvisual_confmatrix.plot(cmap=\\'PuBu\\') #ax=ax)\\n\\nAñade anotaciones de los valores en la matriz de confusión\\nfor i in range(confmatrix.shape[0]):\\n    for j in range(confmatrix.shape[1]):\\n        ax.text(j, i, f\"{confmatrix[i, j]:,}\\n{[\\'Verdaderos Negativos\\', \\'Falsos Positivos\\', \\'Falsos Negativos\\', \\'Verdaderos Positivos\\'][i + j * 2]}\", \\n                ha=\\'center\\', va=\\'center\\', color=\\'red\\' if i != j else \\'white\\')\\n              \\n\\n\\n                plt.show()  '"
      ]
     },
     "execution_count": 125,
     "metadata": {},
     "output_type": "execute_result"
    }
   ],
   "source": [
    "\"\"\"#La variable confmatrix contendrá la matriz de confusión calculada al comparar (y_test) con las predicciones del modelo (predictions).\n",
    "confmatrix = confusion_matrix(y_test, predictions)\n",
    "confmatrix\n",
    "\n",
    "confmatrix[0,0]: Verdaderos negativos (TN)\n",
    "confmatrix[0,1]: Falsos positivos (FP)\n",
    "confmatrix[1,0]: Falsos negativos (FN)\n",
    "confmatrix[1,1]: Verdaderos positivos (TP)\n",
    "\n",
    "#fig, ax = plt.subplots(figsize=(8, 8))\n",
    "visual_confmatrix = ConfusionMatrixDisplay(confmatrix)\n",
    "\n",
    "visual_confmatrix.plot(cmap='PuBu') #ax=ax)\n",
    "\n",
    "Añade anotaciones de los valores en la matriz de confusión\n",
    "for i in range(confmatrix.shape[0]):\n",
    "    for j in range(confmatrix.shape[1]):\n",
    "        ax.text(j, i, f\"{confmatrix[i, j]:,}\\n{['Verdaderos Negativos', 'Falsos Positivos', 'Falsos Negativos', 'Verdaderos Positivos'][i + j * 2]}\", \n",
    "                ha='center', va='center', color='red' if i != j else 'white')\n",
    "              \n",
    "\n",
    "\n",
    "                plt.show()  \"\"\""
   ]
  },
  {
   "cell_type": "code",
   "execution_count": 126,
   "metadata": {},
   "outputs": [],
   "source": [
    "#Definimos una función para guardar el resultado\n",
    "def save_scores(model_scores: dict):\n",
    "  status = []\n",
    "  #Utilizamos un try-except en caso de que el archivo no exista que cree uno\n",
    "  try:\n",
    "    #Si el archivo existe continúa por acá\n",
    "    scores = pandas.read_csv('scores.csv', sep=';')\n",
    "    status.append('El archivo existe')\n",
    "    exist = model_scores['model'] in scores['model'].values\n",
    "    #Validamos si el modelo ya existe en el archivo de scores\n",
    "    if (exist):\n",
    "      #Si el modelo ya existe reemplazamos sus valores\n",
    "      status.append('El modelo existe')\n",
    "      criteria = scores['model'] == model_scores['model']\n",
    "      index = scores[criteria].index[0]\n",
    "      scores.iloc[index] = model_scores\n",
    "      status.append('Se reemplazaron los valores del modelo')\n",
    "    else:\n",
    "      #Si el modelo no existe lo agregamos\n",
    "      status.append('El modelo no existe')\n",
    "      df_model_scores = pandas.DataFrame(model_scores, index=[0])\n",
    "      scores = pandas.concat([scores, df_model_scores], ignore_index=True)\n",
    "      status.append('Se añadió modelo nuevo y sus valores')\n",
    "  except:\n",
    "    #Si no existe el archivo lo creamos y cargamos los scores del modelo\n",
    "    status.append('El archivo no existe')\n",
    "    scores = pandas.DataFrame(model_scores, index=[0])\n",
    "\n",
    "  status.append('Se sobrescrive el archivo scores.csv con valores nuevos')\n",
    "  scores.to_csv('scores.csv', sep=';', index=False)\n",
    "  return status"
   ]
  },
  {
   "cell_type": "code",
   "execution_count": 127,
   "metadata": {},
   "outputs": [
    {
     "data": {
      "text/plain": [
       "['El archivo existe',\n",
       " 'El modelo existe',\n",
       " 'Se reemplazaron los valores del modelo',\n",
       " 'Se sobrescrive el archivo scores.csv con valores nuevos']"
      ]
     },
     "execution_count": 127,
     "metadata": {},
     "output_type": "execute_result"
    }
   ],
   "source": [
    "save_scores(model_scores)"
   ]
  }
 ],
 "metadata": {
  "kernelspec": {
   "display_name": "Python 3",
   "language": "python",
   "name": "python3"
  },
  "language_info": {
   "codemirror_mode": {
    "name": "ipython",
    "version": 3
   },
   "file_extension": ".py",
   "mimetype": "text/x-python",
   "name": "python",
   "nbconvert_exporter": "python",
   "pygments_lexer": "ipython3",
   "version": "3.12.0"
  }
 },
 "nbformat": 4,
 "nbformat_minor": 2
}
